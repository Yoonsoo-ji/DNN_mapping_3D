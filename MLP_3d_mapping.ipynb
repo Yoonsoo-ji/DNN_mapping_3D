{
 "cells": [
  {
   "cell_type": "code",
   "execution_count": 1,
   "metadata": {},
   "outputs": [],
   "source": [
    "%matplotlib inline\n",
    "import os\n",
    "import numpy as np\n",
    "import pandas as pd\n",
    "import matplotlib.pyplot as plt\n",
    "import pyvista as pv\n",
    "import vtk\n",
    "import pyvista as pv\n",
    "import omf\n",
    "import omfvista\n"
   ]
  },
  {
   "cell_type": "code",
   "execution_count": 6,
   "metadata": {},
   "outputs": [
    {
     "data": {
      "text/html": [
       "<div>\n",
       "<style scoped>\n",
       "    .dataframe tbody tr th:only-of-type {\n",
       "        vertical-align: middle;\n",
       "    }\n",
       "\n",
       "    .dataframe tbody tr th {\n",
       "        vertical-align: top;\n",
       "    }\n",
       "\n",
       "    .dataframe thead th {\n",
       "        text-align: right;\n",
       "    }\n",
       "</style>\n",
       "<table border=\"1\" class=\"dataframe\">\n",
       "  <thead>\n",
       "    <tr style=\"text-align: right;\">\n",
       "      <th></th>\n",
       "      <th>dep_from</th>\n",
       "      <th>dep_to</th>\n",
       "      <th>litho</th>\n",
       "      <th>litho_Code</th>\n",
       "    </tr>\n",
       "    <tr>\n",
       "      <th>Bore</th>\n",
       "      <th></th>\n",
       "      <th></th>\n",
       "      <th></th>\n",
       "      <th></th>\n",
       "    </tr>\n",
       "  </thead>\n",
       "  <tbody>\n",
       "    <tr>\n",
       "      <th>5001001</th>\n",
       "      <td>0.0</td>\n",
       "      <td>5.0</td>\n",
       "      <td>Weathered Rock</td>\n",
       "      <td>3</td>\n",
       "    </tr>\n",
       "    <tr>\n",
       "      <th>5001002</th>\n",
       "      <td>0.0</td>\n",
       "      <td>1.2</td>\n",
       "      <td>Weathered Soil</td>\n",
       "      <td>2</td>\n",
       "    </tr>\n",
       "    <tr>\n",
       "      <th>5001002</th>\n",
       "      <td>1.2</td>\n",
       "      <td>4.5</td>\n",
       "      <td>Weathered Rock</td>\n",
       "      <td>3</td>\n",
       "    </tr>\n",
       "    <tr>\n",
       "      <th>5001002</th>\n",
       "      <td>4.5</td>\n",
       "      <td>7.0</td>\n",
       "      <td>Soft Rock</td>\n",
       "      <td>4</td>\n",
       "    </tr>\n",
       "    <tr>\n",
       "      <th>5001003</th>\n",
       "      <td>0.0</td>\n",
       "      <td>4.0</td>\n",
       "      <td>Weathered Soil</td>\n",
       "      <td>2</td>\n",
       "    </tr>\n",
       "  </tbody>\n",
       "</table>\n",
       "</div>"
      ],
      "text/plain": [
       "         dep_from  dep_to           litho  litho_Code\n",
       "Bore                                                 \n",
       "5001001       0.0     5.0  Weathered Rock           3\n",
       "5001002       0.0     1.2  Weathered Soil           2\n",
       "5001002       1.2     4.5  Weathered Rock           3\n",
       "5001002       4.5     7.0       Soft Rock           4\n",
       "5001003       0.0     4.0  Weathered Soil           2"
      ]
     },
     "execution_count": 6,
     "metadata": {},
     "output_type": "execute_result"
    }
   ],
   "source": [
    "wellLoc = pd.read_csv('wellLithoSeoul_0625.txt', header=0, index_col=0, usecols=[0, 1, 2, 3, 4], engine='python')\n",
    "wellLoc.head()\n"
   ]
  },
  {
   "cell_type": "code",
   "execution_count": 7,
   "metadata": {},
   "outputs": [
    {
     "data": {
      "text/html": [
       "<div>\n",
       "<style scoped>\n",
       "    .dataframe tbody tr th:only-of-type {\n",
       "        vertical-align: middle;\n",
       "    }\n",
       "\n",
       "    .dataframe tbody tr th {\n",
       "        vertical-align: top;\n",
       "    }\n",
       "\n",
       "    .dataframe thead th {\n",
       "        text-align: right;\n",
       "    }\n",
       "</style>\n",
       "<table border=\"1\" class=\"dataframe\">\n",
       "  <thead>\n",
       "    <tr style=\"text-align: right;\">\n",
       "      <th></th>\n",
       "      <th>b_x</th>\n",
       "      <th>b_y</th>\n",
       "      <th>b_z</th>\n",
       "      <th>Dem_elev</th>\n",
       "    </tr>\n",
       "    <tr>\n",
       "      <th>Bore</th>\n",
       "      <th></th>\n",
       "      <th></th>\n",
       "      <th></th>\n",
       "      <th></th>\n",
       "    </tr>\n",
       "  </thead>\n",
       "  <tbody>\n",
       "    <tr>\n",
       "      <th>5001001</th>\n",
       "      <td>202508.166948</td>\n",
       "      <td>445914.007345</td>\n",
       "      <td>98.30</td>\n",
       "      <td>30</td>\n",
       "    </tr>\n",
       "    <tr>\n",
       "      <th>5001002</th>\n",
       "      <td>202550.141173</td>\n",
       "      <td>445922.035045</td>\n",
       "      <td>99.00</td>\n",
       "      <td>31</td>\n",
       "    </tr>\n",
       "    <tr>\n",
       "      <th>5001003</th>\n",
       "      <td>202514.025196</td>\n",
       "      <td>445961.097219</td>\n",
       "      <td>96.00</td>\n",
       "      <td>31</td>\n",
       "    </tr>\n",
       "    <tr>\n",
       "      <th>5001004</th>\n",
       "      <td>210131.229153</td>\n",
       "      <td>445708.363176</td>\n",
       "      <td>106.30</td>\n",
       "      <td>18</td>\n",
       "    </tr>\n",
       "    <tr>\n",
       "      <th>5001005</th>\n",
       "      <td>210147.206086</td>\n",
       "      <td>445742.430977</td>\n",
       "      <td>101.59</td>\n",
       "      <td>18</td>\n",
       "    </tr>\n",
       "  </tbody>\n",
       "</table>\n",
       "</div>"
      ],
      "text/plain": [
       "                   b_x            b_y     b_z  Dem_elev\n",
       "Bore                                                   \n",
       "5001001  202508.166948  445914.007345   98.30        30\n",
       "5001002  202550.141173  445922.035045   99.00        31\n",
       "5001003  202514.025196  445961.097219   96.00        31\n",
       "5001004  210131.229153  445708.363176  106.30        18\n",
       "5001005  210147.206086  445742.430977  101.59        18"
      ]
     },
     "execution_count": 7,
     "metadata": {},
     "output_type": "execute_result"
    }
   ],
   "source": [
    "wellLoc = pd.read_csv('wellLocSeoul_0625.txt',skipfooter=1, header=0, index_col=0, usecols=[0,1,2,3, 4, 5], engine='python')\n",
    "wellLoc.head()"
   ]
  },
  {
   "cell_type": "code",
   "execution_count": 8,
   "metadata": {},
   "outputs": [
    {
     "data": {
      "text/html": [
       "<div>\n",
       "<style scoped>\n",
       "    .dataframe tbody tr th:only-of-type {\n",
       "        vertical-align: middle;\n",
       "    }\n",
       "\n",
       "    .dataframe tbody tr th {\n",
       "        vertical-align: top;\n",
       "    }\n",
       "\n",
       "    .dataframe thead th {\n",
       "        text-align: right;\n",
       "    }\n",
       "</style>\n",
       "<table border=\"1\" class=\"dataframe\">\n",
       "  <thead>\n",
       "    <tr style=\"text-align: right;\">\n",
       "      <th></th>\n",
       "      <th>Bore</th>\n",
       "      <th>dep_from</th>\n",
       "      <th>dep_to</th>\n",
       "      <th>litho</th>\n",
       "      <th>litho_Code</th>\n",
       "      <th>Var6</th>\n",
       "      <th>topLitoElev_m</th>\n",
       "      <th>botLitoElev_m</th>\n",
       "    </tr>\n",
       "  </thead>\n",
       "  <tbody>\n",
       "    <tr>\n",
       "      <th>0</th>\n",
       "      <td>5001001</td>\n",
       "      <td>0.0</td>\n",
       "      <td>5.0</td>\n",
       "      <td>Weathered Rock</td>\n",
       "      <td>3</td>\n",
       "      <td>Landfill</td>\n",
       "      <td></td>\n",
       "      <td></td>\n",
       "    </tr>\n",
       "    <tr>\n",
       "      <th>1</th>\n",
       "      <td>5001002</td>\n",
       "      <td>0.0</td>\n",
       "      <td>1.2</td>\n",
       "      <td>Weathered Soil</td>\n",
       "      <td>2</td>\n",
       "      <td>Sediments</td>\n",
       "      <td></td>\n",
       "      <td></td>\n",
       "    </tr>\n",
       "    <tr>\n",
       "      <th>2</th>\n",
       "      <td>5001002</td>\n",
       "      <td>1.2</td>\n",
       "      <td>4.5</td>\n",
       "      <td>Weathered Rock</td>\n",
       "      <td>3</td>\n",
       "      <td>Weathered Soil</td>\n",
       "      <td></td>\n",
       "      <td></td>\n",
       "    </tr>\n",
       "    <tr>\n",
       "      <th>3</th>\n",
       "      <td>5001002</td>\n",
       "      <td>4.5</td>\n",
       "      <td>7.0</td>\n",
       "      <td>Soft Rock</td>\n",
       "      <td>4</td>\n",
       "      <td>Weathered Rock</td>\n",
       "      <td></td>\n",
       "      <td></td>\n",
       "    </tr>\n",
       "    <tr>\n",
       "      <th>4</th>\n",
       "      <td>5001003</td>\n",
       "      <td>0.0</td>\n",
       "      <td>4.0</td>\n",
       "      <td>Weathered Soil</td>\n",
       "      <td>2</td>\n",
       "      <td>Soft Rock</td>\n",
       "      <td></td>\n",
       "      <td></td>\n",
       "    </tr>\n",
       "  </tbody>\n",
       "</table>\n",
       "</div>"
      ],
      "text/plain": [
       "      Bore  dep_from  dep_to           litho  litho_Code            Var6  \\\n",
       "0  5001001       0.0     5.0  Weathered Rock           3        Landfill   \n",
       "1  5001002       0.0     1.2  Weathered Soil           2       Sediments   \n",
       "2  5001002       1.2     4.5  Weathered Rock           3  Weathered Soil   \n",
       "3  5001002       4.5     7.0       Soft Rock           4  Weathered Rock   \n",
       "4  5001003       0.0     4.0  Weathered Soil           2       Soft Rock   \n",
       "\n",
       "  topLitoElev_m botLitoElev_m  \n",
       "0                              \n",
       "1                              \n",
       "2                              \n",
       "3                              \n",
       "4                              "
      ]
     },
     "execution_count": 8,
     "metadata": {},
     "output_type": "execute_result"
    }
   ],
   "source": [
    "wellLito = pd.read_csv('wellLithoSeoul_0625.txt',skipfooter=0,\n",
    "                       header=0,usecols=[0,1,2,3, 4, 5, 6],engine='python')\n",
    "wellLito[\"topLitoElev_m\"] = ''\n",
    "wellLito[\"botLitoElev_m\"] = ''\n",
    "wellLito.head() "
   ]
  },
  {
   "cell_type": "code",
   "execution_count": 9,
   "metadata": {},
   "outputs": [
    {
     "ename": "KeyError",
     "evalue": "'None of [106816] are in the columns'",
     "output_type": "error",
     "traceback": [
      "\u001b[0;31m---------------------------------------------------------------------------\u001b[0m",
      "\u001b[0;31mKeyError\u001b[0m                                  Traceback (most recent call last)",
      "\u001b[0;32m<ipython-input-9-b19fe53c2847>\u001b[0m in \u001b[0;36m<module>\u001b[0;34m\u001b[0m\n\u001b[1;32m      9\u001b[0m     \u001b[0mwellLito\u001b[0m\u001b[0;34m.\u001b[0m\u001b[0mloc\u001b[0m\u001b[0;34m[\u001b[0m\u001b[0mindex\u001b[0m\u001b[0;34m,\u001b[0m\u001b[0;34m\"topLitoElev_m\"\u001b[0m\u001b[0;34m]\u001b[0m\u001b[0;34m=\u001b[0m\u001b[0mtopLito\u001b[0m\u001b[0;34m\u001b[0m\u001b[0;34m\u001b[0m\u001b[0m\n\u001b[1;32m     10\u001b[0m     \u001b[0mwellLito\u001b[0m\u001b[0;34m.\u001b[0m\u001b[0mloc\u001b[0m\u001b[0;34m[\u001b[0m\u001b[0mindex\u001b[0m\u001b[0;34m,\u001b[0m\u001b[0;34m\"botLitoElev_m\"\u001b[0m\u001b[0;34m]\u001b[0m\u001b[0;34m=\u001b[0m\u001b[0mbotLito\u001b[0m\u001b[0;34m\u001b[0m\u001b[0;34m\u001b[0m\u001b[0m\n\u001b[0;32m---> 11\u001b[0;31m \u001b[0mwellLito\u001b[0m\u001b[0;34m.\u001b[0m\u001b[0mset_index\u001b[0m\u001b[0;34m(\u001b[0m\u001b[0mindex\u001b[0m\u001b[0;34m,\u001b[0m \u001b[0minplace\u001b[0m\u001b[0;34m=\u001b[0m\u001b[0;32mTrue\u001b[0m\u001b[0;34m)\u001b[0m\u001b[0;34m\u001b[0m\u001b[0;34m\u001b[0m\u001b[0m\n\u001b[0m\u001b[1;32m     12\u001b[0m \u001b[0mwellLito\u001b[0m\u001b[0;34m.\u001b[0m\u001b[0mhead\u001b[0m\u001b[0;34m(\u001b[0m\u001b[0;34m)\u001b[0m\u001b[0;34m\u001b[0m\u001b[0;34m\u001b[0m\u001b[0m\n",
      "\u001b[0;32m~/anaconda3/envs/myenv/lib/python3.8/site-packages/pandas/core/frame.py\u001b[0m in \u001b[0;36mset_index\u001b[0;34m(self, keys, drop, append, inplace, verify_integrity)\u001b[0m\n\u001b[1;32m   4301\u001b[0m \u001b[0;34m\u001b[0m\u001b[0m\n\u001b[1;32m   4302\u001b[0m         \u001b[0;32mif\u001b[0m \u001b[0mmissing\u001b[0m\u001b[0;34m:\u001b[0m\u001b[0;34m\u001b[0m\u001b[0;34m\u001b[0m\u001b[0m\n\u001b[0;32m-> 4303\u001b[0;31m             \u001b[0;32mraise\u001b[0m \u001b[0mKeyError\u001b[0m\u001b[0;34m(\u001b[0m\u001b[0;34mf\"None of {missing} are in the columns\"\u001b[0m\u001b[0;34m)\u001b[0m\u001b[0;34m\u001b[0m\u001b[0;34m\u001b[0m\u001b[0m\n\u001b[0m\u001b[1;32m   4304\u001b[0m \u001b[0;34m\u001b[0m\u001b[0m\n\u001b[1;32m   4305\u001b[0m         \u001b[0;32mif\u001b[0m \u001b[0minplace\u001b[0m\u001b[0;34m:\u001b[0m\u001b[0;34m\u001b[0m\u001b[0;34m\u001b[0m\u001b[0m\n",
      "\u001b[0;31mKeyError\u001b[0m: 'None of [106816] are in the columns'"
     ]
    }
   ],
   "source": [
    "import time\n",
    "from tqdm import notebook\n",
    "import time\n",
    "\n",
    "for index, values in wellLito.iterrows():\n",
    "    x, y, z =wellLoc.loc[values.Bore][['b_x','b_y','Dem_elev']]\n",
    "    topLito = z - values.dep_from \n",
    "    botLito = z- values.dep_to \n",
    "    wellLito.loc[index,\"topLitoElev_m\"]=topLito\n",
    "    wellLito.loc[index,\"botLitoElev_m\"]=botLito\n",
    "wellLito.set_index(index, inplace=True)\n",
    "wellLito.head()"
   ]
  },
  {
   "cell_type": "code",
   "execution_count": 10,
   "metadata": {},
   "outputs": [
    {
     "data": {
      "text/html": [
       "<div>\n",
       "<style scoped>\n",
       "    .dataframe tbody tr th:only-of-type {\n",
       "        vertical-align: middle;\n",
       "    }\n",
       "\n",
       "    .dataframe tbody tr th {\n",
       "        vertical-align: top;\n",
       "    }\n",
       "\n",
       "    .dataframe thead th {\n",
       "        text-align: right;\n",
       "    }\n",
       "</style>\n",
       "<table border=\"1\" class=\"dataframe\">\n",
       "  <thead>\n",
       "    <tr style=\"text-align: right;\">\n",
       "      <th></th>\n",
       "      <th>Bore</th>\n",
       "      <th>dep_from</th>\n",
       "      <th>dep_to</th>\n",
       "      <th>litho</th>\n",
       "      <th>litho_Code</th>\n",
       "      <th>Var6</th>\n",
       "      <th>topLitoElev_m</th>\n",
       "      <th>botLitoElev_m</th>\n",
       "    </tr>\n",
       "  </thead>\n",
       "  <tbody>\n",
       "    <tr>\n",
       "      <th>0</th>\n",
       "      <td>5001001</td>\n",
       "      <td>0.0</td>\n",
       "      <td>5.0</td>\n",
       "      <td>Weathered Rock</td>\n",
       "      <td>3</td>\n",
       "      <td>Landfill</td>\n",
       "      <td>30</td>\n",
       "      <td>25</td>\n",
       "    </tr>\n",
       "    <tr>\n",
       "      <th>1</th>\n",
       "      <td>5001002</td>\n",
       "      <td>0.0</td>\n",
       "      <td>1.2</td>\n",
       "      <td>Weathered Soil</td>\n",
       "      <td>2</td>\n",
       "      <td>Sediments</td>\n",
       "      <td>31</td>\n",
       "      <td>29.8</td>\n",
       "    </tr>\n",
       "    <tr>\n",
       "      <th>2</th>\n",
       "      <td>5001002</td>\n",
       "      <td>1.2</td>\n",
       "      <td>4.5</td>\n",
       "      <td>Weathered Rock</td>\n",
       "      <td>3</td>\n",
       "      <td>Weathered Soil</td>\n",
       "      <td>29.8</td>\n",
       "      <td>26.5</td>\n",
       "    </tr>\n",
       "    <tr>\n",
       "      <th>3</th>\n",
       "      <td>5001002</td>\n",
       "      <td>4.5</td>\n",
       "      <td>7.0</td>\n",
       "      <td>Soft Rock</td>\n",
       "      <td>4</td>\n",
       "      <td>Weathered Rock</td>\n",
       "      <td>26.5</td>\n",
       "      <td>24</td>\n",
       "    </tr>\n",
       "    <tr>\n",
       "      <th>4</th>\n",
       "      <td>5001003</td>\n",
       "      <td>0.0</td>\n",
       "      <td>4.0</td>\n",
       "      <td>Weathered Soil</td>\n",
       "      <td>2</td>\n",
       "      <td>Soft Rock</td>\n",
       "      <td>31</td>\n",
       "      <td>27</td>\n",
       "    </tr>\n",
       "  </tbody>\n",
       "</table>\n",
       "</div>"
      ],
      "text/plain": [
       "      Bore  dep_from  dep_to           litho  litho_Code            Var6  \\\n",
       "0  5001001       0.0     5.0  Weathered Rock           3        Landfill   \n",
       "1  5001002       0.0     1.2  Weathered Soil           2       Sediments   \n",
       "2  5001002       1.2     4.5  Weathered Rock           3  Weathered Soil   \n",
       "3  5001002       4.5     7.0       Soft Rock           4  Weathered Rock   \n",
       "4  5001003       0.0     4.0  Weathered Soil           2       Soft Rock   \n",
       "\n",
       "  topLitoElev_m botLitoElev_m  \n",
       "0            30            25  \n",
       "1            31          29.8  \n",
       "2          29.8          26.5  \n",
       "3          26.5            24  \n",
       "4            31            27  "
      ]
     },
     "execution_count": 10,
     "metadata": {},
     "output_type": "execute_result"
    }
   ],
   "source": [
    "\n",
    "\n",
    "wellLito.to_csv('../pyvista/wellLithoSeoul_0812_real.txt')\n",
    "wellLito.head()"
   ]
  },
  {
   "cell_type": "code",
   "execution_count": 11,
   "metadata": {},
   "outputs": [
    {
     "data": {
      "text/plain": [
       "array([[2.02508167e+05, 4.45914007e+05, 3.00000000e+01, 3.00000000e+00],\n",
       "       [2.02508167e+05, 4.45914007e+05, 2.50000000e+01, 3.00000000e+00],\n",
       "       [2.02508167e+05, 4.45914007e+05, 2.91666667e+01, 3.00000000e+00],\n",
       "       [2.02508167e+05, 4.45914007e+05, 2.83333333e+01, 3.00000000e+00],\n",
       "       [2.02508167e+05, 4.45914007e+05, 2.75000000e+01, 3.00000000e+00],\n",
       "       [2.02508167e+05, 4.45914007e+05, 2.66666667e+01, 3.00000000e+00],\n",
       "       [2.02508167e+05, 4.45914007e+05, 2.58333333e+01, 3.00000000e+00],\n",
       "       [2.02550141e+05, 4.45922035e+05, 3.10000000e+01, 2.00000000e+00],\n",
       "       [2.02550141e+05, 4.45922035e+05, 2.98000000e+01, 2.00000000e+00],\n",
       "       [2.02550141e+05, 4.45922035e+05, 3.04000000e+01, 2.00000000e+00],\n",
       "       [2.02550141e+05, 4.45922035e+05, 2.98000000e+01, 3.00000000e+00],\n",
       "       [2.02550141e+05, 4.45922035e+05, 2.65000000e+01, 3.00000000e+00],\n",
       "       [2.02550141e+05, 4.45922035e+05, 2.89750000e+01, 3.00000000e+00],\n",
       "       [2.02550141e+05, 4.45922035e+05, 2.81500000e+01, 3.00000000e+00],\n",
       "       [2.02550141e+05, 4.45922035e+05, 2.73250000e+01, 3.00000000e+00],\n",
       "       [2.02550141e+05, 4.45922035e+05, 2.65000000e+01, 4.00000000e+00],\n",
       "       [2.02550141e+05, 4.45922035e+05, 2.40000000e+01, 4.00000000e+00],\n",
       "       [2.02550141e+05, 4.45922035e+05, 2.56666667e+01, 4.00000000e+00],\n",
       "       [2.02550141e+05, 4.45922035e+05, 2.48333333e+01, 4.00000000e+00],\n",
       "       [2.02514025e+05, 4.45961097e+05, 3.10000000e+01, 2.00000000e+00],\n",
       "       [2.02514025e+05, 4.45961097e+05, 2.70000000e+01, 2.00000000e+00],\n",
       "       [2.02514025e+05, 4.45961097e+05, 3.02000000e+01, 2.00000000e+00],\n",
       "       [2.02514025e+05, 4.45961097e+05, 2.94000000e+01, 2.00000000e+00],\n",
       "       [2.02514025e+05, 4.45961097e+05, 2.86000000e+01, 2.00000000e+00],\n",
       "       [2.02514025e+05, 4.45961097e+05, 2.78000000e+01, 2.00000000e+00],\n",
       "       [2.10131229e+05, 4.45708363e+05, 1.80000000e+01, 2.00000000e+00],\n",
       "       [2.10131229e+05, 4.45708363e+05, 1.70000000e+01, 2.00000000e+00],\n",
       "       [2.10131229e+05, 4.45708363e+05, 1.75000000e+01, 2.00000000e+00],\n",
       "       [2.10131229e+05, 4.45708363e+05, 1.70000000e+01, 3.00000000e+00],\n",
       "       [2.10131229e+05, 4.45708363e+05, 1.00000000e+01, 3.00000000e+00],\n",
       "       [2.10131229e+05, 4.45708363e+05, 1.61250000e+01, 3.00000000e+00],\n",
       "       [2.10131229e+05, 4.45708363e+05, 1.52500000e+01, 3.00000000e+00],\n",
       "       [2.10131229e+05, 4.45708363e+05, 1.43750000e+01, 3.00000000e+00],\n",
       "       [2.10131229e+05, 4.45708363e+05, 1.35000000e+01, 3.00000000e+00],\n",
       "       [2.10131229e+05, 4.45708363e+05, 1.26250000e+01, 3.00000000e+00],\n",
       "       [2.10131229e+05, 4.45708363e+05, 1.17500000e+01, 3.00000000e+00],\n",
       "       [2.10131229e+05, 4.45708363e+05, 1.08750000e+01, 3.00000000e+00],\n",
       "       [2.10131229e+05, 4.45708363e+05, 1.00000000e+01, 4.00000000e+00],\n",
       "       [2.10131229e+05, 4.45708363e+05, 8.00000000e+00, 4.00000000e+00],\n",
       "       [2.10131229e+05, 4.45708363e+05, 9.33333333e+00, 4.00000000e+00]])"
      ]
     },
     "execution_count": 11,
     "metadata": {},
     "output_type": "execute_result"
    }
   ],
   "source": [
    "litoPoints = []\n",
    "\n",
    "for index, values in wellLito.iterrows():\n",
    "    wellX, wellY, wellZ = wellLoc.loc[values.Bore][[\"b_x\",\"b_y\",\"Dem_elev\"]]\n",
    "    wellXY = [wellX, wellY]\n",
    "    litoPoints.append(wellXY + [values.topLitoElev_m,values.litho_Code])\n",
    "    litoPoints.append(wellXY + [values.botLitoElev_m,values.litho_Code])\n",
    "    \n",
    "    litoLength = values.topLitoElev_m - values.botLitoElev_m\n",
    "    if litoLength < 1:\n",
    "        midPoint = wellXY + [values.topLitoElev_m - litoLength/2,values.litho_Code]\n",
    "    else:\n",
    "        npoints = int(litoLength)\n",
    "        for point in range(1,npoints+1):\n",
    "            disPoint = wellXY + [values.topLitoElev_m - litoLength*point/(npoints+1),values.litho_Code]\n",
    "            litoPoints.append(disPoint)\n",
    "litoNp=np.array(litoPoints)\n",
    "np.save('../pyvista/litoNp',litoNp)\n",
    "litoNp[:40]"
   ]
  },
  {
   "cell_type": "code",
   "execution_count": 2,
   "metadata": {},
   "outputs": [],
   "source": [
    "from sklearn.neural_network import MLPClassifier\n",
    "from sklearn.metrics import confusion_matrix\n",
    "from sklearn import preprocessing"
   ]
  },
  {
   "cell_type": "code",
   "execution_count": 3,
   "metadata": {},
   "outputs": [
    {
     "data": {
      "text/plain": [
       "array([[2.02508167e+05, 4.45914007e+05, 3.00000000e+01, 3.00000000e+00],\n",
       "       [2.02508167e+05, 4.45914007e+05, 2.50000000e+01, 3.00000000e+00],\n",
       "       [2.02508167e+05, 4.45914007e+05, 2.91666667e+01, 3.00000000e+00],\n",
       "       [2.02508167e+05, 4.45914007e+05, 2.83333333e+01, 3.00000000e+00],\n",
       "       [2.02508167e+05, 4.45914007e+05, 2.75000000e+01, 3.00000000e+00],\n",
       "       [2.02508167e+05, 4.45914007e+05, 2.66666667e+01, 3.00000000e+00],\n",
       "       [2.02508167e+05, 4.45914007e+05, 2.58333333e+01, 3.00000000e+00],\n",
       "       [2.02550141e+05, 4.45922035e+05, 3.10000000e+01, 2.00000000e+00],\n",
       "       [2.02550141e+05, 4.45922035e+05, 2.98000000e+01, 2.00000000e+00],\n",
       "       [2.02550141e+05, 4.45922035e+05, 3.04000000e+01, 2.00000000e+00]])"
      ]
     },
     "execution_count": 3,
     "metadata": {},
     "output_type": "execute_result"
    }
   ],
   "source": [
    "litoNp = np.load('litoNp.npy')\n",
    "litoNp[:10]"
   ]
  },
  {
   "cell_type": "code",
   "execution_count": 4,
   "metadata": {},
   "outputs": [
    {
     "name": "stdout",
     "output_type": "stream",
     "text": [
      "[1.17996873e-16 5.54758464e-15 2.38751436e-14]\n",
      "[1. 1. 1.]\n"
     ]
    }
   ],
   "source": [
    "litoX, litoY, litoZ = litoNp[:,0], litoNp[:,1], litoNp[:,2]\n",
    "litoMean = litoNp[:,:3].mean(axis=0)\n",
    "litoTrans = litoNp[:,:3]-litoMean\n",
    "litoTrans[:5]\n",
    "\n",
    "#setting up scaler\n",
    "scaler = preprocessing.StandardScaler().fit(litoTrans)\n",
    "litoScale = scaler.transform(litoTrans)\n",
    "\n",
    "#check scaler\n",
    "print(litoScale.mean(axis=0))\n",
    "print(litoScale.std(axis=0))"
   ]
  },
  {
   "cell_type": "code",
   "execution_count": 5,
   "metadata": {},
   "outputs": [
    {
     "data": {
      "text/plain": [
       "MLPClassifier(activation='tanh', hidden_layer_sizes=(20, 20, 20), max_iter=2000)"
      ]
     },
     "execution_count": 5,
     "metadata": {},
     "output_type": "execute_result"
    }
   ],
   "source": [
    "import time\n",
    "from tqdm import notebook\n",
    "import time\n",
    "\n",
    "X = litoScale\n",
    "Y = litoNp[:,3]\n",
    "clf = MLPClassifier(activation='tanh',solver='adam',hidden_layer_sizes=(20,20,20), max_iter=2000)\n",
    "clf.fit(X,Y)"
   ]
  },
  {
   "cell_type": "code",
   "execution_count": 6,
   "metadata": {},
   "outputs": [
    {
     "name": "stdout",
     "output_type": "stream",
     "text": [
      "[[ 44893  30456   5798   2846   5763     47   1191]\n",
      " [ 25089 125679   7530   9726   4505     21   1486]\n",
      " [ 13823  19789  19681  19216   5045     25   1938]\n",
      " [ 10423  19409  12837  49341  19048    128   6504]\n",
      " [  8857  12002   5532  25063  27334    374  12030]\n",
      " [  1080    755    229   1972   4215   1175   4968]\n",
      " [  4854   3956   1235   7962  12690   1006  27522]]\n"
     ]
    }
   ],
   "source": [
    "numberSamples = litoNp.shape[0]\n",
    "expected=litoNp[:,3]\n",
    "predicted = []\n",
    "for i in range(numberSamples):\n",
    "    predicted.append(clf.predict([litoScale[i]]))\n",
    "results = confusion_matrix(expected,predicted)\n",
    "print(results)"
   ]
  },
  {
   "cell_type": "code",
   "execution_count": 7,
   "metadata": {},
   "outputs": [],
   "source": [
    "xMin = 175200 #x, y 거리가 같아야 계산이 됨!\n",
    "xMax = 220200\n",
    "yMin = 431000\n",
    "yMax = 476000\n",
    "#zMax = 360\n",
    "zMax = 790\n",
    "zMin = -100 "
   ]
  },
  {
   "cell_type": "code",
   "execution_count": 8,
   "metadata": {},
   "outputs": [
    {
     "ename": "NameError",
     "evalue": "name 'wellLoc' is not defined",
     "output_type": "error",
     "traceback": [
      "\u001b[0;31m---------------------------------------------------------------------------\u001b[0m",
      "\u001b[0;31mNameError\u001b[0m                                 Traceback (most recent call last)",
      "\u001b[0;32m<ipython-input-8-68a7eadffd1b>\u001b[0m in \u001b[0;36m<module>\u001b[0;34m\u001b[0m\n\u001b[1;32m      3\u001b[0m \u001b[0myMin\u001b[0m \u001b[0;34m=\u001b[0m \u001b[0;36m440100\u001b[0m\u001b[0;34m\u001b[0m\u001b[0;34m\u001b[0m\u001b[0m\n\u001b[1;32m      4\u001b[0m \u001b[0myMax\u001b[0m \u001b[0;34m=\u001b[0m \u001b[0;36m441100\u001b[0m\u001b[0;34m\u001b[0m\u001b[0;34m\u001b[0m\u001b[0m\n\u001b[0;32m----> 5\u001b[0;31m \u001b[0mzMax\u001b[0m \u001b[0;34m=\u001b[0m \u001b[0mint\u001b[0m\u001b[0;34m(\u001b[0m\u001b[0mwellLoc\u001b[0m\u001b[0;34m.\u001b[0m\u001b[0mDem_elev\u001b[0m\u001b[0;34m.\u001b[0m\u001b[0mmax\u001b[0m\u001b[0;34m(\u001b[0m\u001b[0;34m)\u001b[0m\u001b[0;34m)\u001b[0m\u001b[0;34m\u001b[0m\u001b[0;34m\u001b[0m\u001b[0m\n\u001b[0m\u001b[1;32m      6\u001b[0m \u001b[0mzMin\u001b[0m \u001b[0;34m=\u001b[0m \u001b[0mint\u001b[0m\u001b[0;34m(\u001b[0m\u001b[0mwellLoc\u001b[0m\u001b[0;34m.\u001b[0m\u001b[0mDem_elev\u001b[0m\u001b[0;34m.\u001b[0m\u001b[0mmin\u001b[0m\u001b[0;34m(\u001b[0m\u001b[0;34m)\u001b[0m\u001b[0;34m)\u001b[0m\u001b[0;34m\u001b[0m\u001b[0;34m\u001b[0m\u001b[0m\n",
      "\u001b[0;31mNameError\u001b[0m: name 'wellLoc' is not defined"
     ]
    }
   ],
   "source": [
    "xMin = 202000\n",
    "xMax = 203000\n",
    "yMin = 440100\n",
    "yMax = 441100\n",
    "zMax = int(wellLoc.Dem_elev.max())\n",
    "zMin = int(wellLoc.Dem_elev.min())"
   ]
  },
  {
   "cell_type": "code",
   "execution_count": 8,
   "metadata": {},
   "outputs": [],
   "source": [
    "cellH = 10\n",
    "cellV = 10"
   ]
  },
  {
   "cell_type": "code",
   "execution_count": 9,
   "metadata": {},
   "outputs": [],
   "source": [
    "vertexCols = np.arange(xMin,xMax+1,cellH)\n",
    "vertexRows = np.arange(yMax,yMin-1,-cellH)\n",
    "vertexLays = np.arange(zMax,zMin-1,-cellV)\n",
    "cellCols = (vertexCols[1:]+vertexCols[:-1])/2\n",
    "cellRows = (vertexRows[1:]+vertexRows[:-1])/2 \n",
    "cellLays = (vertexLays[1:]+vertexLays[:-1])/2\n",
    "nCols = cellCols.shape[0]\n",
    "nRows = cellCols.shape[0]\n",
    "nLays = cellLays.shape[0]"
   ]
  },
  {
   "cell_type": "code",
   "execution_count": null,
   "metadata": {},
   "outputs": [],
   "source": [
    "i=0\n",
    "litoMatrix=np.zeros([nLays,nRows,nCols])\n",
    "for lay in range(nLays):\n",
    "    for row in range(nRows):\n",
    "        for col in range(nCols):\n",
    "            cellXYZ = [cellCols[col],cellRows[row],cellLays[lay]]\n",
    "            cellTrans = cellXYZ - litoMean\n",
    "            cellNorm = scaler.transform([cellTrans])\n",
    "            \n",
    "            litoMatrix[lay,row,col] = clf.predict(cellNorm)\n",
    "            \n",
    "            #if i%30000==0:\n",
    "            #    print(\"Processing %s cells\"%i)\n",
    "            #    print(cellTrans)\n",
    "            #    print(cellNorm)\n",
    "            #    print(litoMatrix[lay,row,col])\n",
    "            i+=1\n",
    "        \n",
    "            \n",
    "np.save('../pyvista/litoMatrix_1',litoMatrix)\n",
    "\n",
    "litoMatrixMod = litoMatrix[:,:,::-1]\n",
    "np.save('../pyvista/litoMatrixMod_1',litoMatrixMod)\n",
    "        \n",
    "            \n",
    "            \n",
    "            "
   ]
  },
  {
   "cell_type": "code",
   "execution_count": 4,
   "metadata": {},
   "outputs": [],
   "source": [
    "litoMatrix = np.load('litoMatrix_1.npy')\n",
    "litoMatrixMod = np.load('litoMatrixMod_1.npy')"
   ]
  },
  {
   "cell_type": "code",
   "execution_count": 5,
   "metadata": {},
   "outputs": [
    {
     "data": {
      "text/plain": [
       "<matplotlib.image.AxesImage at 0x7fdac3991d60>"
      ]
     },
     "execution_count": 5,
     "metadata": {},
     "output_type": "execute_result"
    },
    {
     "data": {
      "image/png": "[encoded data removed]",
      "text/plain": [
       "<Figure size 432x288 with 1 Axes>"
      ]
     },
     "metadata": {
      "needs_background": "light"
     },
     "output_type": "display_data"
    }
   ],
   "source": [
    "plt.imshow(litoMatrix[0])"
   ]
  },
  {
   "cell_type": "code",
   "execution_count": 6,
   "metadata": {},
   "outputs": [
    {
     "data": {
      "text/plain": [
       "<matplotlib.image.AxesImage at 0x7fdab1e01cd0>"
      ]
     },
     "execution_count": 6,
     "metadata": {},
     "output_type": "execute_result"
    },
    {
     "data": {
      "image/png": "[encoded data removed]",
      "text/plain": [
       "<Figure size 432x288 with 1 Axes>"
      ]
     },
     "metadata": {
      "needs_background": "light"
     },
     "output_type": "display_data"
    }
   ],
   "source": [
    "plt.imshow(litoMatrix[:,50])"
   ]
  },
  {
   "cell_type": "code",
   "execution_count": 13,
   "metadata": {},
   "outputs": [],
   "source": [
    "np.save('../pyvista/litoMatrix',litoMatrix)"
   ]
  },
  {
   "cell_type": "code",
   "execution_count": 7,
   "metadata": {},
   "outputs": [
    {
     "data": {
      "text/plain": [
       "<matplotlib.image.AxesImage at 0x7fdc9cbad310>"
      ]
     },
     "execution_count": 7,
     "metadata": {},
     "output_type": "execute_result"
    },
    {
     "data": {
      "image/png": "[encoded data removed]",
      "text/plain": [
       "<Figure size 432x288 with 1 Axes>"
      ]
     },
     "metadata": {
      "needs_background": "light"
     },
     "output_type": "display_data"
    }
   ],
   "source": [
    "#matrix modification for Vtk representation\n",
    "litoMatrixMod = litoMatrix[:,:,::-1]\n",
    "np.save('../pyvista/litoMatrixMod',litoMatrixMod)\n",
    "plt.imshow(litoMatrixMod[0])"
   ]
  },
  {
   "cell_type": "code",
   "execution_count": 8,
   "metadata": {},
   "outputs": [],
   "source": [
    "import pyvista\n",
    "import vtk"
   ]
  },
  {
   "cell_type": "code",
   "execution_count": 9,
   "metadata": {},
   "outputs": [],
   "source": [
    "# Create empty grid\n",
    "grid = pyvista.RectilinearGrid()"
   ]
  },
  {
   "cell_type": "code",
   "execution_count": 14,
   "metadata": {},
   "outputs": [],
   "source": [
    "# Initialize from a vtk.vtkRectilinearGrid object\n",
    "vtkgrid = vtk.vtkRectilinearGrid()\n",
    "grid = pyvista.RectilinearGrid(vtkgrid)\n",
    "grid = pyvista.RectilinearGrid(vertexCols,vertexRows,vertexLays)"
   ]
  },
  {
   "cell_type": "code",
   "execution_count": 15,
   "metadata": {},
   "outputs": [],
   "source": [
    "litoFlat = list(litoMatrixMod.flatten(order=\"K\"))[::-1]\n",
    "grid.cell_arrays[\"Litho\"] = np.array(litoFlat)\n",
    "grid.save('../pyvista/20200824_seoul_litho_all_10by10.vtk')"
   ]
  },
  {
   "cell_type": "code",
   "execution_count": null,
   "metadata": {},
   "outputs": [],
   "source": [
    "print(len(litoFlat))"
   ]
  },
  {
   "cell_type": "code",
   "execution_count": null,
   "metadata": {},
   "outputs": [],
   "source": []
  }
 ],
 "metadata": {
  "kernelspec": {
   "display_name": "Python 3",
   "language": "python",
   "name": "python3"
  },
  "language_info": {
   "codemirror_mode": {
    "name": "ipython",
    "version": 3
   },
   "file_extension": ".py",
   "mimetype": "text/x-python",
   "name": "python",
   "nbconvert_exporter": "python",
   "pygments_lexer": "ipython3",
   "version": "3.8.5"
  }
 },
 "nbformat": 4,
 "nbformat_minor": 4
}
